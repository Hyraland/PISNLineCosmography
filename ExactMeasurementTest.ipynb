{
 "cells": [
  {
   "cell_type": "code",
   "execution_count": 1,
   "metadata": {},
   "outputs": [
    {
     "name": "stdout",
     "output_type": "stream",
     "text": [
      "Populating the interactive namespace from numpy and matplotlib\n"
     ]
    }
   ],
   "source": [
    "%pylab inline\n",
    "%config InlineBackend.figure_format = 'retina'"
   ]
  },
  {
   "cell_type": "code",
   "execution_count": 16,
   "metadata": {},
   "outputs": [
    {
     "name": "stderr",
     "output_type": "stream",
     "text": [
      "/Users/wfarr/anaconda3/lib/python3.7/site-packages/dask/config.py:168: YAMLLoadWarning: calling yaml.load() without Loader=... is deprecated, as the default Loader is unsafe. Please read https://msg.pyyaml.org/load for full details.\n",
      "  data = yaml.load(f.read()) or {}\n",
      "/Users/wfarr/anaconda3/lib/python3.7/site-packages/distributed/config.py:20: YAMLLoadWarning: calling yaml.load() without Loader=... is deprecated, as the default Loader is unsafe. Please read https://msg.pyyaml.org/load for full details.\n",
      "  defaults = yaml.load(f)\n"
     ]
    }
   ],
   "source": [
    "import arviz as az\n",
    "import astropy.cosmology as cosmo\n",
    "from astropy.cosmology import Planck15\n",
    "import astropy.units as u\n",
    "import h5py\n",
    "import pystan\n",
    "from true_params import true_params"
   ]
  },
  {
   "cell_type": "code",
   "execution_count": 18,
   "metadata": {},
   "outputs": [
    {
     "name": "stderr",
     "output_type": "stream",
     "text": [
      "INFO:pystan:COMPILING THE C++ CODE FOR MODEL anon_model_33be3064fcb5c90df6fdf5c2944874ef NOW.\n",
      "/Users/wfarr/anaconda3/lib/python3.7/site-packages/Cython/Compiler/Main.py:367: FutureWarning: Cython directive 'language_level' not set, using 2 for now (Py2). This will change in a later release! File: /var/folders/35/vcq24mtj2_g5wk96mbck0cw400018s/T/tmpwe5p8iho/stanfit4anon_model_33be3064fcb5c90df6fdf5c2944874ef_3925616943681122279.pyx\n",
      "  tree = Parsing.p_module(s, pxd, full_module_name)\n"
     ]
    }
   ],
   "source": [
    "model = pystan.StanModel(file='model_exact.stan')"
   ]
  },
  {
   "cell_type": "code",
   "execution_count": 63,
   "metadata": {},
   "outputs": [],
   "source": [
    "with h5py.File('observations.h5', 'r') as f:\n",
    "    nobs, Tobs = f.attrs['1yr']\n",
    "    nobs = int(round(nobs))\n",
    "    m1s = array(f['m1s'][:nobs])\n",
    "    m2s = array(f['m2s'][:nobs])\n",
    "    zs = array(f['zs'][:nobs])\n",
    "    dls = Planck15.luminosity_distance(zs).to(u.Gpc).value\n",
    "    \n",
    "    m1obs = m1s*(1+zs)\n",
    "    m2obs = m2s*(1+zs)"
   ]
  },
  {
   "cell_type": "code",
   "execution_count": 64,
   "metadata": {},
   "outputs": [],
   "source": [
    "nsel = 65536\n",
    "with h5py.File('selected.h5', 'r') as f:\n",
    "    N_gen = f.attrs['N_gen']\n",
    "    m1s_det = array(f['m1det'])\n",
    "    m2s_det = array(f['m2det'])\n",
    "    dls_det = array(f['dl'])\n",
    "    wts_det = array(f['wt'])\n",
    "    \n",
    "N = len(m1s_det)\n",
    "N_gen = int(round(N_gen * nsel / float(N)))\n",
    "m1s_det = m1s_det[:nsel]\n",
    "m2s_det = m2s_det[:nsel]\n",
    "dls_det = dls_det[:nsel]\n",
    "wts_det = wts_det[:nsel]"
   ]
  },
  {
   "cell_type": "code",
   "execution_count": 65,
   "metadata": {},
   "outputs": [],
   "source": [
    "ninterp = 512\n",
    "zinterp = expm1(linspace(log(1), log(11), ninterp))"
   ]
  },
  {
   "cell_type": "code",
   "execution_count": 66,
   "metadata": {},
   "outputs": [],
   "source": [
    "d = {\n",
    "    'nobs': nobs,\n",
    "    'nsel': nsel,\n",
    "    \n",
    "    'Tobs': Tobs,\n",
    "    'N_gen': N_gen,\n",
    "    \n",
    "    'm1obs': m1obs,\n",
    "    'm2obs': m2obs,\n",
    "    'dlobs': dls,\n",
    "    \n",
    "    'm1sel': m1s_det,\n",
    "    'm2sel': m2s_det,\n",
    "    'dlsel': dls_det,\n",
    "    'log_wtsel': log(wts_det),\n",
    "    \n",
    "    'ninterp': ninterp,\n",
    "    'zinterp': zinterp,\n",
    "    \n",
    "    'cosmo_prior': 0,\n",
    "    \n",
    "    'd_p': Planck15.luminosity_distance(true_params['z_p']).to(u.Gpc).value,\n",
    "    'z_p': true_params['z_p']\n",
    "}"
   ]
  },
  {
   "cell_type": "code",
   "execution_count": null,
   "metadata": {},
   "outputs": [],
   "source": [
    "fit = model.sampling(data=d)"
   ]
  },
  {
   "cell_type": "code",
   "execution_count": null,
   "metadata": {},
   "outputs": [],
   "source": [
    "az.plot_trace(fit, var_names=['H0', 'Om', 'w0', 'MMax', 'smooth_max', 'alpha', 'beta', 'gamma', 'neff_det'],\n",
    "              lines=(('H0', {}, Planck15.H0.to(u.km/u.s/u.Mpc).value),\n",
    "                     ('Om', {}, Planck15.Om0),\n",
    "                     ('w0', {}, -1),\n",
    "                     ('MMax', {}, true_params['MMax']),\n",
    "                     ('smooth_max', {}, true_params['smooth_max']),\n",
    "                     ('alpha', {}, true_params['alpha']),\n",
    "                     ('beta', {}, true_params['beta']),\n",
    "                     ('gamma', {}, true_params['gamma']),\n",
    "                     ('neff_det', {}, 5*nobs))) # Ensure we are safe for selection effects"
   ]
  },
  {
   "cell_type": "code",
   "execution_count": null,
   "metadata": {},
   "outputs": [],
   "source": [
    "#fitsmall = fit\n",
    "#fitsmall_more = fit\n",
    "#fitsmall_more2 = fit\n",
    "#fit1yr = fit\n",
    "fit1yr_more = fit"
   ]
  },
  {
   "cell_type": "code",
   "execution_count": null,
   "metadata": {},
   "outputs": [],
   "source": [
    "az.plot_density([fit1yr, fit1yr_more], var_names=['alpha'], data_labels=['32768', '65536'])"
   ]
  },
  {
   "cell_type": "code",
   "execution_count": null,
   "metadata": {},
   "outputs": [],
   "source": []
  }
 ],
 "metadata": {
  "kernelspec": {
   "display_name": "Python 3",
   "language": "python",
   "name": "python3"
  },
  "language_info": {
   "codemirror_mode": {
    "name": "ipython",
    "version": 3
   },
   "file_extension": ".py",
   "mimetype": "text/x-python",
   "name": "python",
   "nbconvert_exporter": "python",
   "pygments_lexer": "ipython3",
   "version": "3.7.3"
  }
 },
 "nbformat": 4,
 "nbformat_minor": 2
}
