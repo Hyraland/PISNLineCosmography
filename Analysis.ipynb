{
 "cells": [
  {
   "cell_type": "code",
   "execution_count": 1,
   "metadata": {},
   "outputs": [
    {
     "name": "stdout",
     "output_type": "stream",
     "text": [
      "Populating the interactive namespace from numpy and matplotlib\n"
     ]
    }
   ],
   "source": [
    "%pylab inline\n",
    "%config InlineBackend.figure_format = 'retina'"
   ]
  },
  {
   "cell_type": "code",
   "execution_count": 2,
   "metadata": {},
   "outputs": [],
   "source": [
    "from astropy.cosmology import Planck15\n",
    "import astropy.cosmology as cosmo\n",
    "import astropy.units as u\n",
    "import h5py\n",
    "import plots\n",
    "import pystan\n",
    "from scipy.interpolate import interp1d\n",
    "import scipy.stats as ss\n",
    "import seaborn as sns\n",
    "from true_params import true_params\n",
    "\n",
    "sns.set_style('ticks')\n",
    "sns.set_context('notebook')\n",
    "sns.set_palette('colorblind')"
   ]
  },
  {
   "cell_type": "code",
   "execution_count": 3,
   "metadata": {},
   "outputs": [],
   "source": [
    "with h5py.File('observations.h5', 'r') as f:\n",
    "    m1det = array(f['posteriors/m1det'])\n",
    "    m2det = array(f['posteriors/m2det'])\n",
    "    dldet = array(f['posteriors/dl'])\n",
    "    \n",
    "    m1true = array(f['m1s'])\n",
    "    m2true = array(f['m2s'])"
   ]
  },
  {
   "cell_type": "code",
   "execution_count": 4,
   "metadata": {},
   "outputs": [],
   "source": [
    "with h5py.File('selected.h5', 'r') as f:\n",
    "    m1sel = array(f['m1det'])\n",
    "    m2sel = array(f['m2det'])\n",
    "    dlsel = array(f['dl'])\n",
    "    logwtsel = log(array(f['wt']))\n",
    "    N_gen = f.attrs['N_gen']"
   ]
  },
  {
   "cell_type": "code",
   "execution_count": 5,
   "metadata": {},
   "outputs": [],
   "source": [
    "N = 128\n",
    "Nsamp = 128\n",
    "Nsel = 8192\n",
    "\n",
    "m1 = []\n",
    "m2 = []\n",
    "dl = []\n",
    "bw = []\n",
    "for i in range(N):\n",
    "    s = random.choice(m1det.shape[1], size=Nsamp, replace=False)\n",
    "    m1.append(m1det[i,s])\n",
    "    m2.append(m2det[i,s])\n",
    "    dl.append(dldet[i,s])\n",
    "    \n",
    "    pt = column_stack((m1det[i,:], m2det[i,:], dldet[i,:]))\n",
    "    bw.append(cov(pt, rowvar=False)/Nsamp**(2.0/7.0))\n",
    "    \n",
    "m1 = array(m1)\n",
    "m2 = array(m2)\n",
    "dl = array(dl)\n",
    "bw = array(bw)\n",
    "    \n",
    "s = random.choice(m1sel.shape[0], size=Nsel, replace=False)\n",
    "m1s = m1sel[s]\n",
    "m2s = m2sel[s]\n",
    "dls = dlsel[s]\n",
    "logwts = logwtsel[s]\n",
    "N_gens = int(round(N_gen*Nsel/float(len(m1sel))))"
   ]
  },
  {
   "cell_type": "code",
   "execution_count": 6,
   "metadata": {},
   "outputs": [
    {
     "name": "stderr",
     "output_type": "stream",
     "text": [
      "INFO:pystan:COMPILING THE C++ CODE FOR MODEL anon_model_db7d582c63a5fdd96e4cec451c271c01 NOW.\n",
      "/Users/wfarr/anaconda3/lib/python3.6/site-packages/Cython/Compiler/Main.py:367: FutureWarning: Cython directive 'language_level' not set, using 2 for now (Py2). This will change in a later release! File: /var/folders/35/vcq24mtj2_g5wk96mbck0cw400018s/T/tmplrhmq2_a/stanfit4anon_model_db7d582c63a5fdd96e4cec451c271c01_4918820918757180088.pyx\n",
      "  tree = Parsing.p_module(s, pxd, full_module_name)\n"
     ]
    }
   ],
   "source": [
    "model = pystan.StanModel(file='model.stan')"
   ]
  },
  {
   "cell_type": "code",
   "execution_count": 8,
   "metadata": {},
   "outputs": [],
   "source": [
    "Ninterp = 500\n",
    "zMax = 5\n",
    "\n",
    "data = {\n",
    "    'nobs': N,\n",
    "    'nsel': Nsel,\n",
    "    \n",
    "    'nsamp': Nsamp,\n",
    "    \n",
    "    'Tobs': 0.5*5*N/float(m1det.shape[0]),\n",
    "    'N_gen': N_gens,\n",
    "    \n",
    "    'm1obs': m1,\n",
    "    'm2obs': m2,\n",
    "    'dlobs': dl,\n",
    "    'bw': bw,\n",
    "    \n",
    "    'm1sel': m1s,\n",
    "    'm2sel': m2s,\n",
    "    'dlsel': dls,\n",
    "    'log_wtsel': logwts,\n",
    "    \n",
    "    'ninterp': Ninterp,\n",
    "    'zinterp': expm1(linspace(log(1), log(1+zMax), 500)),\n",
    "    \n",
    "    'cosmo_prior': 0\n",
    "}"
   ]
  },
  {
   "cell_type": "code",
   "execution_count": null,
   "metadata": {},
   "outputs": [],
   "source": [
    "fit = model.sampling(data=data, iter=200)"
   ]
  },
  {
   "cell_type": "code",
   "execution_count": null,
   "metadata": {},
   "outputs": [],
   "source": []
  }
 ],
 "metadata": {
  "kernelspec": {
   "display_name": "Python 3",
   "language": "python",
   "name": "python3"
  },
  "language_info": {
   "codemirror_mode": {
    "name": "ipython",
    "version": 3
   },
   "file_extension": ".py",
   "mimetype": "text/x-python",
   "name": "python",
   "nbconvert_exporter": "python",
   "pygments_lexer": "ipython3",
   "version": "3.6.8"
  }
 },
 "nbformat": 4,
 "nbformat_minor": 2
}
