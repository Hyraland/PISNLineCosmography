{
 "cells": [
  {
   "cell_type": "markdown",
   "metadata": {},
   "source": [
    "Some $\\LaTeX$ abbreviations:\n",
    "$$\n",
    "\\newcommand{\\pd}[2]{\\frac{\\partial #1}{\\partial #2}}\n",
    "$$"
   ]
  },
  {
   "cell_type": "code",
   "execution_count": 1,
   "metadata": {},
   "outputs": [
    {
     "name": "stdout",
     "output_type": "stream",
     "text": [
      "Populating the interactive namespace from numpy and matplotlib\n"
     ]
    }
   ],
   "source": [
    "%pylab inline\n",
    "%config InlineBackend.figure_format = 'retina'"
   ]
  },
  {
   "cell_type": "code",
   "execution_count": 2,
   "metadata": {},
   "outputs": [],
   "source": [
    "import astropy.cosmology as cosmo\n",
    "from astropy.cosmology import Planck15\n",
    "import astropy.units as u\n",
    "import h5py"
   ]
  },
  {
   "cell_type": "code",
   "execution_count": 3,
   "metadata": {},
   "outputs": [],
   "source": [
    "def dmu_dz(mu):\n",
    "    z, dl = mu\n",
    "    dH = Planck15.hubble_distance.to(u.Gpc).value\n",
    "    return np.array([1, dl/(1+z) + (1+z)*dH/Planck15.efunc(z)])\n",
    "\n",
    "def dmu_dH0(mu):\n",
    "    z, dl = mu\n",
    "    return np.array([0.0, -dl/Planck15.H0.to(u.km/u.s/u.Mpc).value])\n",
    "\n",
    "def dmu_dOm(mu):\n",
    "    z, dl = mu\n",
    "    \n",
    "    zs = linspace(0, z, 100)\n",
    "    ints = Planck15.hubble_distance.to(u.Gpc).value*(-((1+zs)**3-1)/(2*Planck15.efunc(zs)**3))\n",
    "    \n",
    "    return np.array([0.0, trapz(ints, zs)])\n",
    "\n",
    "def dmu_dw(mu):\n",
    "    z, dl = mu\n",
    "    \n",
    "    zs = linspace(0, z, 100)\n",
    "    ints = Planck15.hubble_distance.to(u.Gpc).value*(-3)*(1-Planck15.Om0)*log(1+zs)/(2*Planck15.efunc(zs)**3)\n",
    "    \n",
    "    return np.array([0.0, trapz(ints, zs)])\n",
    "\n",
    "def dmu_dwa(mu):\n",
    "    z, dl = mu\n",
    "    \n",
    "    zs = linspace(0, z, 100)\n",
    "    ints = Planck15.hubble_distance.to(u.Gpc).value*(-3)*(1-Planck15.Om0)*((1+zs)*log(1+zs) - zs)/(2*Planck15.efunc(zs)**3)\n",
    "    \n",
    "    return np.array([0.0, trapz(ints, zs)])\n",
    "\n",
    "def fisher(z, dl, sigma_z, sigma_dl):\n",
    "    mu = np.array([z, dl])\n",
    "    \n",
    "    Sigma = np.diag([1.0/sigma_z**2, 1.0/sigma_dl**2])\n",
    "    \n",
    "    dmu = np.array([dmu_dz(mu), dmu_dH0(mu), dmu_dOm(mu), dmu_dw(mu), dmu_dwa(mu)])\n",
    "        \n",
    "    F = np.dot(dmu, np.dot(Sigma, dmu.T))\n",
    "    \n",
    "    return F"
   ]
  },
  {
   "cell_type": "code",
   "execution_count": 4,
   "metadata": {},
   "outputs": [],
   "source": [
    "with h5py.File('observations.h5', 'r') as f:\n",
    "    m1true = array(f['m1s'])\n",
    "    ztrue = array(f['zs'])\n",
    "    dltrue = Planck15.luminosity_distance(ztrue).to(u.Gpc).value\n",
    "    \n",
    "    sigma_log_m1 = std(log(array(f['posteriors/m1det'])), axis=1)\n",
    "    sigma_log_m2 = std(log(array(f['posteriors/m2det'])), axis=1)\n",
    "    sigma_dl = std(array(f['posteriors/dl']), axis=1)"
   ]
  },
  {
   "cell_type": "code",
   "execution_count": 5,
   "metadata": {},
   "outputs": [],
   "source": [
    "Fs = []\n",
    "for z, dl, slm1, slm2, sd in zip(ztrue, dltrue, sigma_log_m1, sigma_log_m2, sigma_dl):\n",
    "    slm = 1.0/sqrt(1.0/slm1**2 + 1.0/slm2**2)\n",
    "    Fs.append(fisher(z, dl, slm, sd))\n",
    "Fs = array(Fs)"
   ]
  },
  {
   "cell_type": "code",
   "execution_count": 6,
   "metadata": {},
   "outputs": [],
   "source": [
    "F = np.sum(Fs, axis=0)\n",
    "F_constr = F + np.diag([0.0, 1.0/(0.01*Planck15.H0.to(u.km/u.s/u.Mpc).value)**2, 1.0/(Planck15.Om0*0.01)**2, 0.0, 0.0])"
   ]
  },
  {
   "cell_type": "code",
   "execution_count": 7,
   "metadata": {},
   "outputs": [],
   "source": [
    "C = np.linalg.inv(F)\n",
    "C_constr = np.linalg.inv(F_constr)"
   ]
  },
  {
   "cell_type": "code",
   "execution_count": 8,
   "metadata": {},
   "outputs": [
    {
     "data": {
      "text/plain": [
       "(array([2.75635651e-04, 1.02511288e+00, 6.90292732e-01, 7.74626352e-01,\n",
       "        4.20857331e+00]),\n",
       " array([1.71182113e-04, 4.76549517e-01, 3.07494930e-03, 9.55790378e-02,\n",
       "        2.48884605e-01]))"
      ]
     },
     "execution_count": 8,
     "metadata": {},
     "output_type": "execute_result"
    }
   ],
   "source": [
    "sqrt(diag(C)), sqrt(diag(C_constr))"
   ]
  },
  {
   "cell_type": "code",
   "execution_count": 9,
   "metadata": {},
   "outputs": [
    {
     "data": {
      "text/plain": [
       "(array([0.00516497, 0.06591393]), array([[-0.96676925, -0.25565056],\n",
       "        [-0.25565056,  0.96676925]]))"
      ]
     },
     "execution_count": 9,
     "metadata": {},
     "output_type": "execute_result"
    }
   ],
   "source": [
    "evals, evecs = np.linalg.eigh(C_constr[3:,3:])\n",
    "evals, evecs"
   ]
  },
  {
   "cell_type": "code",
   "execution_count": 10,
   "metadata": {},
   "outputs": [
    {
     "data": {
      "text/plain": [
       "(0.07186772515612641, 0.2644380374825161)"
      ]
     },
     "execution_count": 10,
     "metadata": {},
     "output_type": "execute_result"
    }
   ],
   "source": [
    "sqrt(evals[0]), evecs[1,0]/evecs[0,0]"
   ]
  },
  {
   "cell_type": "code",
   "execution_count": 11,
   "metadata": {},
   "outputs": [
    {
     "data": {
      "text/plain": [
       "(0.3595047745229629, 0.7355619625174838)"
      ]
     },
     "execution_count": 11,
     "metadata": {},
     "output_type": "execute_result"
    }
   ],
   "source": [
    "ap = 1-evecs[1,0]/evecs[0,0]\n",
    "zp = 1/ap-1\n",
    "zp, ap"
   ]
  },
  {
   "cell_type": "code",
   "execution_count": null,
   "metadata": {},
   "outputs": [],
   "source": []
  }
 ],
 "metadata": {
  "kernelspec": {
   "display_name": "Python 3",
   "language": "python",
   "name": "python3"
  },
  "language_info": {
   "codemirror_mode": {
    "name": "ipython",
    "version": 3
   },
   "file_extension": ".py",
   "mimetype": "text/x-python",
   "name": "python",
   "nbconvert_exporter": "python",
   "pygments_lexer": "ipython3",
   "version": "3.6.8"
  }
 },
 "nbformat": 4,
 "nbformat_minor": 2
}
