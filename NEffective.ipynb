{
 "cells": [
  {
   "cell_type": "markdown",
   "metadata": {},
   "source": [
    "The goal of this notebook is to estimate how many posterior samples we need to get a reliable estimate of the population.  We use some preliminary samples from the 1-year chains to get an idea of how uncertain the parameter estimates might be.  Then we re-weight the existing flat-prior samples according to the population, and re-sample.  On re-sampling, we want to have a sufficient number of samples to properly explore the posterior (certainly $\\gg 1$, say at least 10, but hopefully more)."
   ]
  },
  {
   "cell_type": "code",
   "execution_count": 1,
   "metadata": {},
   "outputs": [
    {
     "name": "stdout",
     "output_type": "stream",
     "text": [
      "Populating the interactive namespace from numpy and matplotlib\n"
     ]
    }
   ],
   "source": [
    "%pylab inline\n",
    "%config InlineBackend.figure_format = 'retina'"
   ]
  },
  {
   "cell_type": "code",
   "execution_count": 2,
   "metadata": {},
   "outputs": [],
   "source": [
    "import h5py\n",
    "import model\n",
    "import theano.tensor as tt\n",
    "from scipy.interpolate import interp1d\n",
    "import seaborn as sns\n",
    "\n",
    "sns.set_context('notebook')\n",
    "sns.set_style('ticks')\n",
    "sns.set_palette('colorblind')"
   ]
  },
  {
   "cell_type": "markdown",
   "metadata": {},
   "source": [
    "We load the observations and posterior samples (flat prior)."
   ]
  },
  {
   "cell_type": "code",
   "execution_count": 3,
   "metadata": {},
   "outputs": [],
   "source": [
    "with h5py.File('observations.h5', 'r') as f:\n",
    "    z = array(f['zs'])\n",
    "    m1s = array(f['posteriors']['m1det'])\n",
    "    m2s = array(f['posteriors']['m2det'])\n",
    "    dls = array(f['posteriors']['dl'])"
   ]
  },
  {
   "cell_type": "markdown",
   "metadata": {},
   "source": [
    "This code is copied from `PISNAnalysis.ipynb`"
   ]
  },
  {
   "cell_type": "code",
   "execution_count": 4,
   "metadata": {},
   "outputs": [],
   "source": [
    "def load_chains(f, selector=None):\n",
    "    names = ['H0', 'Om', 'w', 'R0', 'MMin', 'MMax', 'alpha', 'beta', 'gamma', 'sigma_low', 'sigma_high', 'Nex', 'neff_det']\n",
    "    \n",
    "    if selector is None:\n",
    "        selector = slice(None)\n",
    "    \n",
    "    c = {}\n",
    "    with h5py.File(f, 'r') as inp:\n",
    "        nobs = inp.attrs['nobs']\n",
    "        for n in names:\n",
    "            c[n] = array(inp[n])[selector, ...]\n",
    "\n",
    "    mu_term = nobs*(log(c['Nex'])-log(c['R0']))\n",
    "    sigma_term = nobs**2/(2*c['neff_det'])\n",
    "    \n",
    "    R0_dsigma_term = (1 - 4*nobs + 3*nobs**2)/c['neff_det']\n",
    "    R0_sigma_term = nobs-1\n",
    "    \n",
    "    print('Fractional bias in parameter estimates due to selection uncertainty is {:.2f}'.format(std(sigma_term)/std(mu_term)))\n",
    "    print('Fractional bias in R0 is {:.2f}'.format(mean(nobs/c['neff_det'])))\n",
    "    print('Fracitonal expansion in sigma_R0 is {:.2f}'.format(mean(R0_dsigma_term/(2*R0_sigma_term))))\n",
    "    return c"
   ]
  },
  {
   "cell_type": "markdown",
   "metadata": {},
   "source": [
    "Here we re-weight the samples according to the population distribution described by a random parameter sample from the chain:"
   ]
  },
  {
   "cell_type": "code",
   "execution_count": 5,
   "metadata": {},
   "outputs": [],
   "source": [
    "def reweighted_samples(chain, m1s, m2s, dls):\n",
    "    c = chain\n",
    "    \n",
    "    i = random.choice(len(c['H0']))\n",
    "    \n",
    "    dH = 4.42563416002 * (67.74/c['H0'][i])\n",
    "    \n",
    "    zs_interp = linspace(0, 10, 1000)\n",
    "    dls_interp = model.dls_of_zs(zs_interp, dH, c['Om'][i], c['w'][i]).eval()\n",
    "    \n",
    "    z_f = interp1d(dls_interp, zs_interp)\n",
    "    zs = z_f(dls)\n",
    "\n",
    "    samples = []\n",
    "    \n",
    "    ms_interp = exp(arange(log(1), log(200), 0.01))\n",
    "    \n",
    "    log_wts = model.log_dNdm1dm2ddLdt(m1s/(1+zs), m2s/(1+zs), dls, zs, c['R0'][i], c['MMin'][i], c['MMax'][i], c['alpha'][i], c['beta'][i], c['gamma'][i], dH, c['Om'][i], c['w'][i], c['sigma_low'][i], c['sigma_high'][i], tt.as_tensor_variable(ms_interp)).eval() - 2.0*log1p(zs)\n",
    "    \n",
    "    for j in range(m1s.shape[0]):\n",
    "        m1 = m1s[j,:]\n",
    "        m2 = m2s[j,:]\n",
    "        dl = dls[j,:]\n",
    "            \n",
    "        log_rs = log(random.uniform(low=0, high=exp(np.max(log_wts[j,:])), size=len(log_wts[j,:])))\n",
    "        \n",
    "        s = log_rs < log_wts[j,:]\n",
    "        \n",
    "        samples.append(column_stack((m1[s], m2[s], dl[s])))\n",
    "        \n",
    "    return samples"
   ]
  },
  {
   "cell_type": "markdown",
   "metadata": {},
   "source": [
    "The 1-year chains (un-constrained by cosmology):"
   ]
  },
  {
   "cell_type": "code",
   "execution_count": 6,
   "metadata": {},
   "outputs": [
    {
     "name": "stdout",
     "output_type": "stream",
     "text": [
      "Fractional bias in parameter estimates due to selection uncertainty is 0.01\n",
      "Fractional bias in R0 is 0.02\n",
      "Fracitonal expansion in sigma_R0 is 0.02\n"
     ]
    }
   ],
   "source": [
    "c_1yr = load_chains('population_1yr.h5')"
   ]
  },
  {
   "cell_type": "markdown",
   "metadata": {},
   "source": [
    "Re-weighted samples:"
   ]
  },
  {
   "cell_type": "code",
   "execution_count": 7,
   "metadata": {},
   "outputs": [],
   "source": [
    "samp = reweighted_samples(c_1yr, m1s, m2s, dls)"
   ]
  },
  {
   "cell_type": "markdown",
   "metadata": {},
   "source": [
    "Length of samples for each object"
   ]
  },
  {
   "cell_type": "code",
   "execution_count": 9,
   "metadata": {},
   "outputs": [],
   "source": [
    "lens = array([len(s) for s in samp])"
   ]
  },
  {
   "cell_type": "markdown",
   "metadata": {},
   "source": [
    "We want to make sure that the minimum number of samples is O(10) or so to get good posterior estimates (I just pulled 10 out of my ass, so maybe we want even more?)."
   ]
  },
  {
   "cell_type": "code",
   "execution_count": 10,
   "metadata": {},
   "outputs": [
    {
     "data": {
      "text/plain": [
       "(1570, 13)"
      ]
     },
     "execution_count": 10,
     "metadata": {},
     "output_type": "execute_result"
    }
   ],
   "source": [
    "argmin(lens), np.min(lens)"
   ]
  },
  {
   "cell_type": "markdown",
   "metadata": {},
   "source": [
    "Here we can see that, even though most objects have many tens of samples, there is a significant tail to small sample number (these are at the edges of the population distribution, so hard to sample well)."
   ]
  },
  {
   "cell_type": "code",
   "execution_count": 11,
   "metadata": {},
   "outputs": [
    {
     "name": "stderr",
     "output_type": "stream",
     "text": [
      "/Users/wfarr/anaconda3/lib/python3.6/site-packages/scipy/stats/stats.py:1713: FutureWarning: Using a non-tuple sequence for multidimensional indexing is deprecated; use `arr[tuple(seq)]` instead of `arr[seq]`. In the future this will be interpreted as an array index, `arr[np.array(seq)]`, which will result either in an error or a different result.\n",
      "  return np.add.reduce(sorted[indexer] * weights, axis=axis) / sumval\n"
     ]
    },
    {
     "name": "stdout",
     "output_type": "stream",
     "text": [
      "I have 7 objects with fewer than 30 samples\n"
     ]
    },
    {
     "data": {
      "image/png": "[encoded data removed]",
      "text/plain": [
       "<Figure size 432x288 with 1 Axes>"
      ]
     },
     "metadata": {
      "image/png": {
       "height": 254,
       "width": 403
      }
     },
     "output_type": "display_data"
    }
   ],
   "source": [
    "sns.distplot(lens)\n",
    "print('I have {:d} objects with fewer than 30 samples'.format(count_nonzero(lens<=30)))"
   ]
  },
  {
   "cell_type": "markdown",
   "metadata": {},
   "source": [
    "I chose 30 because 30 samples out of the 4000 posterior samples are required before a down-sampling to 128 samples will have just one \"effective\" sample in it.  This suggests why we are seeing biases with only 128 samples per event, and that we should actually have all 4000 (and maybe more---but let's start with 4000)."
   ]
  },
  {
   "cell_type": "code",
   "execution_count": null,
   "metadata": {},
   "outputs": [],
   "source": []
  }
 ],
 "metadata": {
  "kernelspec": {
   "display_name": "Python 3",
   "language": "python",
   "name": "python3"
  },
  "language_info": {
   "codemirror_mode": {
    "name": "ipython",
    "version": 3
   },
   "file_extension": ".py",
   "mimetype": "text/x-python",
   "name": "python",
   "nbconvert_exporter": "python",
   "pygments_lexer": "ipython3",
   "version": "3.6.6"
  }
 },
 "nbformat": 4,
 "nbformat_minor": 2
}
