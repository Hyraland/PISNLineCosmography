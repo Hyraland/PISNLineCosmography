{
 "cells": [
  {
   "cell_type": "markdown",
   "metadata": {},
   "source": [
    "Some $\\LaTeX$ abbreviations:\n",
    "$$\n",
    "\\newcommand{\\pd}[2]{\\frac{\\partial #1}{\\partial #2}}\n",
    "$$"
   ]
  },
  {
   "cell_type": "code",
   "execution_count": 1,
   "metadata": {},
   "outputs": [
    {
     "name": "stdout",
     "output_type": "stream",
     "text": [
      "Populating the interactive namespace from numpy and matplotlib\n"
     ]
    }
   ],
   "source": [
    "%pylab inline\n",
    "%config InlineBackend.figure_format = 'retina'"
   ]
  },
  {
   "cell_type": "code",
   "execution_count": 3,
   "metadata": {},
   "outputs": [],
   "source": [
    "import astropy.cosmology as cosmo\n",
    "from astropy.cosmology import Planck15\n",
    "import astropy.units as u\n",
    "import h5py"
   ]
  },
  {
   "cell_type": "markdown",
   "metadata": {},
   "source": [
    "Let's try to estimate the precision of our measurement of $w$ by \"collapsing\" our 1000s of measurements of mass and distances into a single effective measurement at a \"pivot\" redshift of $z \\sim 0.5$.  We have \n",
    "$$\n",
    "d_L\\left( z \\mid H_0, \\Omega_M, w \\right) = \\left( 1 + z \\right) \\int_0^z \\mathrm{d} z' \\, \\frac{c}{H\\left( z' \\mid H_0, \\Omega_M, w \\right)},\n",
    "$$\n",
    "where \n",
    "$$\n",
    "H\\left( z' \\mid H_0, \\Omega_M, w \\right) = H_0 \\sqrt{\\Omega_M \\left( 1+z\\right)^3 + \\left(1 - \\Omega_M \\right) \\left( 1 + z \\right)^{3(1+w)}} \\equiv H_0 E\\left( z \\mid \\Omega_M, w \\right).\n",
    "$$\n",
    "\n",
    "We will approximate \n",
    "$$\n",
    "\\sigma_w \\simeq \\left( \\pd{\\ln d_L}{w} \\right)^{-1} \\sqrt{ \\sigma_{\\ln d_L}^2  + \\left( \\pd{\\ln d_L}{z} \\right)^2 \\sigma_z^2 + \\left( \\pd{\\ln d_L}{\\ln H_0} \\right)^2 \\sigma_{\\ln H_0}^2 + \\left( \\pd{\\ln d_L}{\\Omega_M} \\right)^2 \\sigma_{\\Omega_M}^2 }\n",
    "$$\n",
    "where $\\sigma_{\\ln d_L}$ and $\\sigma_z \\simeq \\sigma_{\\ln m_1}$ come from the measurement accuracy of the observations, either by combining the uncertainties from all the measurements via \n",
    "$$\n",
    "\\sigma_x^2 = \\left[ \\sum_{i} \\left(\\sigma_x^{(i)}\\right)^{-2} \\right]^{-1}\n",
    "$$\n",
    "or by taking a typical measurement uncertainty and scaling by $1/\\sqrt{N}$, and $\\sigma_{\\ln H_0}$ and $\\sigma_{\\Omega_M}$ are the uncertainties in the prior measurements of these quantities ($\\sim 1\\%$ in both cases).\n",
    "\n",
    "The partials above should be computed at a fiducial value of the parameters, say $H_0 = 70 \\, \\mathrm{km} \\, \\mathrm{s}^{-1} \\, \\mathrm{Mpc}$, $\\Omega_M = 0.3$, $w = -1$ (to leading order the uncertainty budget is independent of these parameters).  Below we compute them."
   ]
  },
  {
   "cell_type": "code",
   "execution_count": 17,
   "metadata": {},
   "outputs": [
    {
     "name": "stdout",
     "output_type": "stream",
     "text": [
      "2.9414005273015023\n"
     ]
    }
   ],
   "source": [
    "z_pivot = 0.5\n",
    "dlndLdz = 1/(1+z_pivot) + (1+z_pivot)*Planck15.hubble_distance/Planck15.luminosity_distance(z_pivot)\n",
    "print(dlndLdz)"
   ]
  },
  {
   "cell_type": "markdown",
   "metadata": {},
   "source": [
    "$$\n",
    "\\pd{\\ln d_L}{z} = \\frac{1}{1+z} + \\frac{\\left(1+z\\right) d_H}{d_L} \\simeq 2.9\n",
    "$$"
   ]
  },
  {
   "cell_type": "markdown",
   "metadata": {},
   "source": [
    "The next one is simple:"
   ]
  },
  {
   "cell_type": "markdown",
   "metadata": {},
   "source": [
    "$$\n",
    "\\pd{\\ln d_L}{\\ln H_0} \\equiv -1\n",
    "$$"
   ]
  },
  {
   "cell_type": "code",
   "execution_count": 18,
   "metadata": {},
   "outputs": [
    {
     "name": "stdout",
     "output_type": "stream",
     "text": [
      "0.34337926212429837\n"
     ]
    }
   ],
   "source": [
    "zs = expm1(linspace(log(1), log(1+z_pivot), 100))\n",
    "Ezs = Planck15.efunc(zs)\n",
    "numer = trapz(((1+zs)**3-1)/(2*Ezs**3), zs)\n",
    "denom = trapz(1/Ezs, zs)\n",
    "dlndLdOm = numer/denom\n",
    "print(dlndLdOm)"
   ]
  },
  {
   "cell_type": "markdown",
   "metadata": {},
   "source": [
    "$$\n",
    "\\pd{\\ln d_L}{\\Omega_M} = \\frac{\\int_0^z \\mathrm{d}z' \\, \\frac{\\left( 1 + z' \\right)^3 - \\left(1+z'\\right)^{3(1+w)}}{2 E^{3}\\left(z'\\right)}}{\\int_0^z \\mathrm{d}z' \\, \\frac{1}{E\\left(z'\\right)}} \\simeq 0.34\n",
    "$$"
   ]
  },
  {
   "cell_type": "code",
   "execution_count": 19,
   "metadata": {},
   "outputs": [
    {
     "name": "stdout",
     "output_type": "stream",
     "text": [
      "0.15621504604988443\n"
     ]
    }
   ],
   "source": [
    "numer = trapz(3*(1-0.3)*log1p(zs)/(2*Ezs**3), zs)\n",
    "dlndLdw=numer/denom\n",
    "print(dlndLdw)"
   ]
  },
  {
   "cell_type": "markdown",
   "metadata": {},
   "source": [
    "$$\n",
    "\\pd{\\ln d_L}{w} = \\frac{\\int_0^z \\mathrm{d} z' \\, \\frac{3 \\left( 1 - \\Omega_M \\right) \\ln\\left( 1 + z'\\right) \\left( 1 + z' \\right)^{3(1+w)}}{2 E^3\\left( z' \\right)}}{\\int_0^z \\mathrm{d} z' \\frac{1}{E\\left( z' \\right)}} \\simeq 0.16\n",
    "$$"
   ]
  },
  {
   "cell_type": "markdown",
   "metadata": {},
   "source": [
    "Now we just need to compute the $\\sigma$s.  The only tricky bit is that only those masses that are sufficiently close to the upper boundary contribute.  For the moment let's leave that out, and just estimate."
   ]
  },
  {
   "cell_type": "code",
   "execution_count": 16,
   "metadata": {},
   "outputs": [],
   "source": [
    "with h5py.File('observations.h5', 'r') as f:\n",
    "    sigma_lndl = 1.0/sqrt(sum(1/var(log(f['posteriors/dl']), axis=1)))\n",
    "    sigma_z = 1.0/sqrt(sum(1/var(log(f['posteriors/m1det']), axis=1)))\n",
    "sigma_lnH0 = 0.01\n",
    "sigma_Om = 0.01"
   ]
  },
  {
   "cell_type": "markdown",
   "metadata": {},
   "source": [
    "If we put it all together, we estimate a 7.5% uncertainty---not bad!"
   ]
  },
  {
   "cell_type": "code",
   "execution_count": 20,
   "metadata": {},
   "outputs": [
    {
     "data": {
      "text/latex": [
       "$0.074084145 \\; \\mathrm{}$"
      ],
      "text/plain": [
       "<Quantity 0.07408415>"
      ]
     },
     "execution_count": 20,
     "metadata": {},
     "output_type": "execute_result"
    }
   ],
   "source": [
    "1/dlndLdw*sqrt(sigma_lndl**2 + dlndLdz**2*sigma_z**2 + sigma_lnH0**2 + dlndLdOm**2*sigma_Om**2)"
   ]
  },
  {
   "cell_type": "markdown",
   "metadata": {},
   "source": [
    "And if we assume we knew $H_0$ and $\\Omega_M$ perfectly, the limit on $w$ would be about 3%.  Neat-o!"
   ]
  },
  {
   "cell_type": "code",
   "execution_count": 22,
   "metadata": {},
   "outputs": [
    {
     "data": {
      "text/latex": [
       "$0.030123988 \\; \\mathrm{}$"
      ],
      "text/plain": [
       "<Quantity 0.03012399>"
      ]
     },
     "execution_count": 22,
     "metadata": {},
     "output_type": "execute_result"
    }
   ],
   "source": [
    "1/dlndLdw*sqrt(sigma_lndl**2 + dlndLdz**2*sigma_z**2)"
   ]
  },
  {
   "cell_type": "code",
   "execution_count": null,
   "metadata": {},
   "outputs": [],
   "source": []
  }
 ],
 "metadata": {
  "kernelspec": {
   "display_name": "Python 3",
   "language": "python",
   "name": "python3"
  },
  "language_info": {
   "codemirror_mode": {
    "name": "ipython",
    "version": 3
   },
   "file_extension": ".py",
   "mimetype": "text/x-python",
   "name": "python",
   "nbconvert_exporter": "python",
   "pygments_lexer": "ipython3",
   "version": "3.6.6"
  }
 },
 "nbformat": 4,
 "nbformat_minor": 2
}
