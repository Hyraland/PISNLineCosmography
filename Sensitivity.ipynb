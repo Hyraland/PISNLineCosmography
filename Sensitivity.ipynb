{
 "cells": [
  {
   "cell_type": "markdown",
   "metadata": {},
   "source": [
    "Some $\\LaTeX$ abbreviations:\n",
    "$$\n",
    "\\newcommand{\\pd}[2]{\\frac{\\partial #1}{\\partial #2}}\n",
    "$$"
   ]
  },
  {
   "cell_type": "code",
   "execution_count": 1,
   "metadata": {},
   "outputs": [
    {
     "name": "stdout",
     "output_type": "stream",
     "text": [
      "Populating the interactive namespace from numpy and matplotlib\n"
     ]
    }
   ],
   "source": [
    "%pylab inline\n",
    "%config InlineBackend.figure_format = 'retina'"
   ]
  },
  {
   "cell_type": "code",
   "execution_count": 3,
   "metadata": {},
   "outputs": [],
   "source": [
    "import astropy.cosmology as cosmo\n",
    "from astropy.cosmology import Planck15\n",
    "import astropy.units as u\n",
    "import h5py"
   ]
  },
  {
   "cell_type": "markdown",
   "metadata": {},
   "source": [
    "Let's try to estimate the precision of our measurement of $w$ by \"collapsing\" our 1000s of measurements of mass and distances into a single effective measurement at a \"pivot\" redshift of $z \\sim 0.5$.  We have \n",
    "$$\n",
    "d_L\\left( z \\mid H_0, \\Omega_M, w \\right) = \\left( 1 + z \\right) \\int_0^z \\mathrm{d} z' \\, \\frac{c}{H\\left( z' \\mid H_0, \\Omega_M, w \\right)},\n",
    "$$\n",
    "where \n",
    "$$\n",
    "H\\left( z' \\mid H_0, \\Omega_M, w \\right) = H_0 \\sqrt{\\Omega_M \\left( 1+z\\right)^3 + \\left(1 - \\Omega_M \\right) \\left( 1 + z \\right)^{3(1+w)}} \\equiv H_0 E\\left( z \\mid \\Omega_M, w \\right).\n",
    "$$\n",
    "\n",
    "We collapse the population down to a single measurement: $d_L = \\tilde{d}_L \\pm \\sigma_{d_L}$, $z = \\tilde{z} \\pm \\sigma_z$ at a pivot redshift $\\tilde{z} \\simeq 0.5$ (so $\\tilde{d}_L = d_L\\left( \\tilde{z} \\mid \\tilde{H}_0, \\tilde{\\Omega}_M, \\tilde{w} \\right)$ with $\\tilde{H}_0 \\simeq 67.74$, etc).  Here $\\sigma_{d_L}$ and $\\sigma_z \\simeq \\sigma_{\\ln m_1}$ come from the measurement accuracy of the observations, either by combining the uncertainties from all the measurements via \n",
    "$$\n",
    "\\sigma_x^2 = \\left[ \\sum_{i} \\left(\\sigma_x^{(i)}\\right)^{-2} \\right]^{-1}\n",
    "$$\n",
    "or by taking a typical measurement uncertainty and scaling by $1/\\sqrt{N}$, and $\\sigma_{\\ln H_0}$ and $\\sigma_{\\Omega_M}$ are the uncertainties in the prior measurements of these quantities ($\\sim 1\\%$ in both cases).  Then, assuming Gaussian priors on $H_0$ and $\\Omega_M$, the posterior looks like \n",
    "$$\n",
    "\\log \\pi \\sim -\\frac{1}{2} \\left[ \\left(\\frac{\\tilde{d}_L - d_L\\left( z \\mid H_0, \\Omega_M, w \\right)}{\\sigma_{d_L}} \\right)^2 + \\left( \\frac{\\tilde{z} - z}{\\sigma_z} \\right)^2 + \\left(\\frac{\\tilde{H}_0 - H_0}{\\sigma_{H_0}}\\right)^2 + \\left( \\frac{\\tilde{\\Omega}_M - \\Omega_M}{\\sigma_{\\Omega_M}} \\right)^2 \\right].\n",
    "$$\n",
    "The gradient of the posterior vanishes when all parameters take on their tilde-d values; the Hessian (aka Fisher matrix) at this point is given by \n",
    "$$\n",
    "\\mathbf{F}_{ij} = - \\mathbf{\\nabla}_{i} \\mathbf{\\nabla}_{j} \\log \\pi,\n",
    "$$\n",
    "where $i = \\left\\{ H_0, \\Omega_M, w, z \\right\\}$ ranges over the parameters in the system.  The covarance matrix of a Gaussian approximation to the posterior is given by $\\mathbf{C} = \\mathbf{F}^{-1}$; the diagonal entries in the covariance matrix give the variance in the corresponding parameter after marginalizing out the others.  \n",
    "\n",
    "Because the derivatives in this expression are evaluated at the tilde-d value of the parameters, we can actually write the Fisher matrix as an outer product of gradients of $d_L\\left( z \\mid H_0, \\Omega_M, w \\right)$, $z$, $H_0$, and $\\Omega_M$ (these latter three gradients are trivial identities).  The relevant derivatives of $d_L$ and their values at the fiducial parameters are \n",
    "$$\n",
    "\\pd{\\ln d_L}{z} = \\frac{1}{1+z} + \\frac{\\left(1+z\\right) d_H}{d_L} \\simeq 2.9,\n",
    "$$\n",
    "$$\n",
    "\\pd{\\ln d_L}{\\ln H_0} = -1,\n",
    "$$\n",
    "$$\n",
    "\\pd{\\ln d_L}{\\Omega_M} = \\frac{\\int_0^z \\mathrm{d}z' \\, \\frac{\\left( 1 + z' \\right)^3 - \\left(1+z'\\right)^{3(1+w)}}{2 E^{3}\\left(z'\\right)}}{\\int_0^z \\mathrm{d}z' \\, \\frac{1}{E\\left(z'\\right)}} \\simeq 0.34,\n",
    "$$\n",
    "and\n",
    "$$\n",
    "\\pd{\\ln d_L}{w} = \\frac{\\int_0^z \\mathrm{d} z' \\, \\frac{3 \\left( 1 - \\Omega_M \\right) \\ln\\left( 1 + z'\\right) \\left( 1 + z' \\right)^{3(1+w)}}{2 E^3\\left( z' \\right)}}{\\int_0^z \\mathrm{d} z' \\frac{1}{E\\left( z' \\right)}} \\simeq 0.16\n",
    "$$"
   ]
  },
  {
   "cell_type": "code",
   "execution_count": 17,
   "metadata": {},
   "outputs": [
    {
     "name": "stdout",
     "output_type": "stream",
     "text": [
      "2.9414005273015023\n"
     ]
    }
   ],
   "source": [
    "z_pivot = 0.5\n",
    "dlndLdz = 1/(1+z_pivot) + (1+z_pivot)*Planck15.hubble_distance/Planck15.luminosity_distance(z_pivot)\n",
    "print(dlndLdz)"
   ]
  },
  {
   "cell_type": "code",
   "execution_count": 18,
   "metadata": {},
   "outputs": [
    {
     "name": "stdout",
     "output_type": "stream",
     "text": [
      "0.34337926212429837\n"
     ]
    }
   ],
   "source": [
    "zs = expm1(linspace(log(1), log(1+z_pivot), 100))\n",
    "Ezs = Planck15.efunc(zs)\n",
    "numer = trapz(((1+zs)**3-1)/(2*Ezs**3), zs)\n",
    "denom = trapz(1/Ezs, zs)\n",
    "dlndLdOm = numer/denom\n",
    "print(dlndLdOm)"
   ]
  },
  {
   "cell_type": "code",
   "execution_count": 19,
   "metadata": {},
   "outputs": [
    {
     "name": "stdout",
     "output_type": "stream",
     "text": [
      "0.15621504604988443\n"
     ]
    }
   ],
   "source": [
    "numer = trapz(3*(1-0.3)*log1p(zs)/(2*Ezs**3), zs)\n",
    "dlndLdw=numer/denom\n",
    "print(dlndLdw)"
   ]
  },
  {
   "cell_type": "markdown",
   "metadata": {},
   "source": [
    "Now we just need to compute the $\\sigma$s.  The only tricky bit is that only those masses that are sufficiently close to the upper boundary contribute.  For the moment let's leave that out, and just estimate."
   ]
  },
  {
   "cell_type": "code",
   "execution_count": 16,
   "metadata": {},
   "outputs": [],
   "source": [
    "with h5py.File('observations.h5', 'r') as f:\n",
    "    sigma_lndl = 1.0/sqrt(sum(1/var(log(f['posteriors/dl']), axis=1)))\n",
    "    sigma_z = 1.0/sqrt(sum(1/var(log(f['posteriors/m1det']), axis=1)))\n",
    "sigma_lnH0 = 0.01\n",
    "sigma_Om = 0.01"
   ]
  },
  {
   "cell_type": "markdown",
   "metadata": {},
   "source": [
    "Here we return the covariance matrix:"
   ]
  },
  {
   "cell_type": "code",
   "execution_count": 33,
   "metadata": {},
   "outputs": [],
   "source": [
    "def make_cov(sigma_lndL, sigma_z, sigma_lnH0, sigma_Om):\n",
    "    grad_d = [-1.0/Planck15.H0.to(u.km/u.s/u.Mpc).value, dlndLdOm, dlndLdw]\n",
    "    F_d = 1/sigma_lndL**2*np.outer(grad_d, grad_d)\n",
    "    F_z = 1/sigma_z**2\n",
    "    \n",
    "    F = zeros((4,4))\n",
    "    F[:3,:3] = F_d\n",
    "    F[3,3] = F_z\n",
    "    \n",
    "    F[0,0] += 1.0/(Planck15.H0.to(u.km/u.s/u.Mpc).value*sigma_lnH0)**2\n",
    "    F[1,1] += 1.0/sigma_Om**2\n",
    "    \n",
    "    return np.linalg.inv(F)"
   ]
  },
  {
   "cell_type": "markdown",
   "metadata": {},
   "source": [
    "For the canonical 1% $H_0$, 1% $\\Omega_M$ measurement:"
   ]
  },
  {
   "cell_type": "code",
   "execution_count": 49,
   "metadata": {},
   "outputs": [
    {
     "name": "stdout",
     "output_type": "stream",
     "text": [
      "[0.6774     0.003      0.06623204 0.00136655]\n",
      "sigma_w = 0.066\n"
     ]
    }
   ],
   "source": [
    "C = make_cov(sigma_lndl, sigma_z, 0.01, 0.003)\n",
    "print(sqrt(diag(C)))\n",
    "print('sigma_w = {:.3f}'.format(sqrt(diag(C))[2]))"
   ]
  },
  {
   "cell_type": "markdown",
   "metadata": {},
   "source": [
    "For a more precise $H_0$, at the 0.5% level:"
   ]
  },
  {
   "cell_type": "code",
   "execution_count": 50,
   "metadata": {},
   "outputs": [
    {
     "name": "stdout",
     "output_type": "stream",
     "text": [
      "[0.3387     0.003      0.0362396  0.00136655]\n",
      "sigma_w = 0.036\n"
     ]
    }
   ],
   "source": [
    "C = make_cov(sigma_lndl, sigma_z, 0.005, 0.003)\n",
    "print(sqrt(diag(C)))\n",
    "print('sigma_w = {:.3f}'.format(sqrt(diag(C))[2]))"
   ]
  },
  {
   "cell_type": "markdown",
   "metadata": {},
   "source": [
    "And with a perfect $H_0$ measurement:"
   ]
  },
  {
   "cell_type": "code",
   "execution_count": 51,
   "metadata": {},
   "outputs": [
    {
     "name": "stdout",
     "output_type": "stream",
     "text": [
      "[0.0006774  0.003      0.01699572 0.00136655]\n",
      "sigma_w = 0.017\n"
     ]
    }
   ],
   "source": [
    "C = make_cov(sigma_lndl, sigma_z, 0.00001, 0.003)\n",
    "print(sqrt(diag(C)))\n",
    "print('sigma_w = {:.3f}'.format(sqrt(diag(C))[2]))"
   ]
  },
  {
   "cell_type": "markdown",
   "metadata": {},
   "source": [
    "With perfect $H_0$ and $\\Omega_M$:"
   ]
  },
  {
   "cell_type": "code",
   "execution_count": 52,
   "metadata": {},
   "outputs": [
    {
     "name": "stdout",
     "output_type": "stream",
     "text": [
      "[6.77400000e-04 3.00000000e-05 1.56643999e-02 1.36655498e-03]\n",
      "sigma_w = 0.016\n"
     ]
    }
   ],
   "source": [
    "C = make_cov(sigma_lndl, sigma_z, 0.00001, 0.00003)\n",
    "print(sqrt(diag(C)))\n",
    "print('sigma_w = {:.3f}'.format(sqrt(diag(C))[2]))"
   ]
  },
  {
   "cell_type": "code",
   "execution_count": null,
   "metadata": {},
   "outputs": [],
   "source": []
  }
 ],
 "metadata": {
  "kernelspec": {
   "display_name": "Python 3",
   "language": "python",
   "name": "python3"
  },
  "language_info": {
   "codemirror_mode": {
    "name": "ipython",
    "version": 3
   },
   "file_extension": ".py",
   "mimetype": "text/x-python",
   "name": "python",
   "nbconvert_exporter": "python",
   "pygments_lexer": "ipython3",
   "version": "3.6.6"
  }
 },
 "nbformat": 4,
 "nbformat_minor": 2
}
