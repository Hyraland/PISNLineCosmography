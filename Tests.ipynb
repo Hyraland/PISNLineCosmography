{
 "cells": [
  {
   "cell_type": "code",
   "execution_count": 1,
   "metadata": {},
   "outputs": [
    {
     "name": "stdout",
     "output_type": "stream",
     "text": [
      "Populating the interactive namespace from numpy and matplotlib\n"
     ]
    }
   ],
   "source": [
    "%pylab inline\n",
    "%config InlineBackend.figure_format = 'retina'"
   ]
  },
  {
   "cell_type": "code",
   "execution_count": 34,
   "metadata": {},
   "outputs": [],
   "source": [
    "import arviz as az\n",
    "import astropy.cosmology as cosmo\n",
    "from astropy.cosmology import Planck15\n",
    "import astropy.units as u\n",
    "import h5py\n",
    "import pystan\n",
    "import re\n",
    "from scipy.interpolate import interp1d\n",
    "import seaborn as sns\n",
    "from true_params import true_params\n",
    "\n",
    "sns.set_context('notebook')\n",
    "sns.set_style('ticks')\n",
    "sns.set_palette('colorblind')"
   ]
  },
  {
   "cell_type": "code",
   "execution_count": 3,
   "metadata": {},
   "outputs": [],
   "source": [
    "samples = {}\n",
    "with h5py.File('observations.h5', 'r') as f:\n",
    "    nobs, Tobs = f.attrs['1yr']\n",
    "    nobs = int(round(nobs))\n",
    "    for k in ['m1det', 'm2det', 'dl', 'log_m1m2dl_prior']:\n",
    "        samples[k] = array(f['posteriors'][k])\n",
    "    nsamp = array(f['posteriors']['nsamp'], dtype=np.int)\n",
    "m1s = []\n",
    "m2s = []\n",
    "dls = []\n",
    "log_prs = []\n",
    "\n",
    "for i in range(nobs):\n",
    "    sel = random.choice(samples['m1det'][i,:].shape[0], nsamp[i], replace=False)\n",
    "    m1s.append(samples['m1det'][i,sel])\n",
    "    m2s.append(samples['m2det'][i,sel])\n",
    "    dls.append(samples['dl'][i,sel])\n",
    "    log_prs.append(samples['log_m1m2dl_prior'][i,sel])\n",
    "m1s = concatenate(m1s)\n",
    "m2s = concatenate(m2s)\n",
    "dls = concatenate(dls)\n",
    "log_prs = concatenate(log_prs)"
   ]
  },
  {
   "cell_type": "code",
   "execution_count": 4,
   "metadata": {},
   "outputs": [],
   "source": [
    "sel = {}\n",
    "nsel = 262144\n",
    "\n",
    "with h5py.File('selected.h5', 'r') as f:\n",
    "    s = random.choice(f['m1det'].shape[0], nsel, replace=False)\n",
    "    sel['m1det'] = array(f['m1det'])[s]\n",
    "    sel['m2det'] = array(f['m2det'])[s]\n",
    "    sel['dldet'] = array(f['dl'])[s]\n",
    "    sel['wtdet'] = array(f['wt'])[s]\n",
    "    sel['N_gen'] = int(round(float(f.attrs['N_gen'])*nsel/float(len(f['m1det']))))"
   ]
  },
  {
   "cell_type": "code",
   "execution_count": 5,
   "metadata": {},
   "outputs": [],
   "source": [
    "ninterp = 500\n",
    "zMax = 10\n",
    "zinterp = expm1(linspace(log(1), log(zMax+1), ninterp))\n",
    "\n",
    "mnorm = exp(arange(log(1), log(400), 0.01))\n",
    "nnorm = len(mnorm)"
   ]
  },
  {
   "cell_type": "code",
   "execution_count": 6,
   "metadata": {},
   "outputs": [],
   "source": [
    "d = {\n",
    "    'nobs': nobs,\n",
    "    'nsel': nsel,\n",
    "    'ninterp': ninterp,\n",
    "    'nnorm': nnorm,\n",
    "    \n",
    "    'nsamp': nsamp[:nobs],\n",
    "    'nsamp_total': np.sum(nsamp[:nobs]),\n",
    "    \n",
    "    'Tobs': Tobs,\n",
    "    'N_gen': sel['N_gen'],\n",
    "    \n",
    "    'm1obs': m1s,\n",
    "    'm2obs': m2s,\n",
    "    'dlobs': dls,\n",
    "    'log_samp_wts': log_prs,\n",
    "    \n",
    "    'm1sel': sel['m1det'],\n",
    "    'm2sel': sel['m2det'],\n",
    "    'dlsel': sel['dldet'],\n",
    "    'wtsel': sel['wtdet'],\n",
    "    \n",
    "    'zinterp': zinterp,\n",
    "    \n",
    "    'ms_norm': mnorm,\n",
    "    \n",
    "    'use_cosmo_prior': 0,\n",
    "    'mu_H0': Planck15.H0.to(u.km/u.s/u.Mpc).value,\n",
    "    'sigma_H0': 0.01*Planck15.H0.to(u.km/u.s/u.Mpc).value,\n",
    "    'mu_Omh2': 0.02225+0.1198,\n",
    "    'sigma_Omh2': sqrt(0.00016**2 + 0.0015**2)\n",
    "}"
   ]
  },
  {
   "cell_type": "code",
   "execution_count": 7,
   "metadata": {},
   "outputs": [
    {
     "name": "stderr",
     "output_type": "stream",
     "text": [
      "INFO:pystan:COMPILING THE C++ CODE FOR MODEL anon_model_bd491f29d8b4ce6b335a05b26e2ddc24 NOW.\n"
     ]
    }
   ],
   "source": [
    "model = pystan.StanModel(file='model.stan')"
   ]
  },
  {
   "cell_type": "code",
   "execution_count": 42,
   "metadata": {},
   "outputs": [
    {
     "name": "stderr",
     "output_type": "stream",
     "text": [
      "WARNING:pystan:Automatic Differentiation Variational Inference (ADVI) is an EXPERIMENTAL ALGORITHM.\n",
      "WARNING:pystan:ADVI samples may be found on the filesystem in the file `/var/folders/35/vcq24mtj2_g5wk96mbck0cw400018s/T/tmpjebg1iz6/output.csv`\n"
     ]
    }
   ],
   "source": [
    "r = model.vb(data=d, output_samples=4000)"
   ]
  },
  {
   "cell_type": "code",
   "execution_count": 43,
   "metadata": {},
   "outputs": [],
   "source": [
    "class VBResultProxy(object):\n",
    "    def __init__(self, vbres):\n",
    "        self._vbres = vbres\n",
    "    @property\n",
    "    def res(self):\n",
    "        return self._vbres\n",
    "    def __getitem__(self, x):\n",
    "        if x + '[1]' in self.res['sampler_param_names']:\n",
    "            # Then it's an array:\n",
    "            i = 1\n",
    "            cols = []\n",
    "            while True:\n",
    "                if x + '[{:d}]'.format(i) in self.res['sampler_param_names']:\n",
    "                    cols.append(self.res['sampler_params'][self.res['sampler_param_names'].index(x+'[{:d}]'.format(i))])\n",
    "                    i = i+1\n",
    "                else:\n",
    "                    break\n",
    "            return np.column_stack(cols)\n",
    "        elif not x in self.res['sampler_param_names']:\n",
    "            # Parameter not found\n",
    "            raise ValueError('key not found in sampler params:', x)\n",
    "        else:\n",
    "            # It's a scalar\n",
    "            return self.res['sampler_params'][self.res['sampler_param_names'].index(x)]"
   ]
  },
  {
   "cell_type": "code",
   "execution_count": 44,
   "metadata": {},
   "outputs": [],
   "source": [
    "p = VBResultProxy(r)"
   ]
  },
  {
   "cell_type": "code",
   "execution_count": 45,
   "metadata": {},
   "outputs": [
    {
     "name": "stderr",
     "output_type": "stream",
     "text": [
      "/Users/wfarr/anaconda3/lib/python3.6/site-packages/scipy/stats/stats.py:1713: FutureWarning: Using a non-tuple sequence for multidimensional indexing is deprecated; use `arr[tuple(seq)]` instead of `arr[seq]`. In the future this will be interpreted as an array index, `arr[np.array(seq)]`, which will result either in an error or a different result.\n",
      "  return np.add.reduce(sorted[indexer] * weights, axis=axis) / sumval\n"
     ]
    },
    {
     "data": {
      "text/plain": [
       "<matplotlib.axes._subplots.AxesSubplot at 0x1c52684a20>"
      ]
     },
     "execution_count": 45,
     "metadata": {},
     "output_type": "execute_result"
    },
    {
     "data": {
      "image/png": "[encoded data removed]",
      "text/plain": [
       "<Figure size 432x288 with 1 Axes>"
      ]
     },
     "metadata": {
      "image/png": {
       "height": 254,
       "width": 376
      }
     },
     "output_type": "display_data"
    }
   ],
   "source": [
    "sns.distplot(p['w'])"
   ]
  },
  {
   "cell_type": "code",
   "execution_count": 48,
   "metadata": {},
   "outputs": [],
   "source": [
    "nobs = len(m1s)\n",
    "ndet = nsel\n",
    "with h5py.File('population_1yr.h5', 'w') as out:\n",
    "    out.attrs['nobs'] = nobs\n",
    "    out.attrs['nsel'] = ndet\n",
    "\n",
    "    for n in ['H0', 'Om', 'w', 'R0', 'MMin', 'MMax', 'sigma_low', 'sigma_high', 'alpha', 'beta', 'gamma', 'Nex', 'neff_det', 'neff', 'm1_source', 'm2_source', 'dl_source', 'z_source']:\n",
    "        d = array(p[n])\n",
    "        if len(d.shape) == 1:\n",
    "            d = reshape(d, (4, -1))\n",
    "        else:\n",
    "            d = reshape(d, (4, -1, d.shape[-1]))\n",
    "        out.create_dataset(n, data=p[n], compression='gzip', shuffle=True)"
   ]
  },
  {
   "cell_type": "code",
   "execution_count": null,
   "metadata": {},
   "outputs": [],
   "source": []
  }
 ],
 "metadata": {
  "kernelspec": {
   "display_name": "Python 3",
   "language": "python",
   "name": "python3"
  },
  "language_info": {
   "codemirror_mode": {
    "name": "ipython",
    "version": 3
   },
   "file_extension": ".py",
   "mimetype": "text/x-python",
   "name": "python",
   "nbconvert_exporter": "python",
   "pygments_lexer": "ipython3",
   "version": "3.6.6"
  }
 },
 "nbformat": 4,
 "nbformat_minor": 2
}
